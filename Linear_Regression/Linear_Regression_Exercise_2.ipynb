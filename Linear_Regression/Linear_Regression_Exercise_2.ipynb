{
  "nbformat": 4,
  "nbformat_minor": 0,
  "metadata": {
    "colab": {
      "provenance": [],
      "authorship_tag": "ABX9TyOagKmGZC/N0KQhLqYtd+kW",
      "include_colab_link": true
    },
    "kernelspec": {
      "name": "python3",
      "display_name": "Python 3"
    },
    "language_info": {
      "name": "python"
    }
  },
  "cells": [
    {
      "cell_type": "markdown",
      "metadata": {
        "id": "view-in-github",
        "colab_type": "text"
      },
      "source": [
        "<a href=\"https://colab.research.google.com/github/Raptor-sj22/ML-Training/blob/main/Linear_Regression/Linear_Regression_Exercise_2.ipynb\" target=\"_parent\"><img src=\"https://colab.research.google.com/assets/colab-badge.svg\" alt=\"Open In Colab\"/></a>"
      ]
    },
    {
      "cell_type": "markdown",
      "source": [
        "## Project Summary\n",
        "\n",
        "This code builds a linear regression model using TensorFlow/Keras to predict taxi trip tips (`TIPS`) based on `TRIP_MILES` and `PICKUP_COMMUNITY_AREA`, using a cleaned subset of the Chicago Taxi dataset. The model is trained on **10,000 samples** and validated on **110 samples**, using **50 epochs**, a **batch size of 350**, and a **learning rate of 0.0001**. The model is optimized using **Stochastic Gradient Descent (SGD)** and evaluated using **Root Mean Squared Error (RMSE)**.\n"
      ],
      "metadata": {
        "id": "4tIz09tUpR-r"
      }
    },
    {
      "cell_type": "code",
      "execution_count": null,
      "metadata": {
        "id": "fEqMeML0LpzV",
        "cellView": "form"
      },
      "outputs": [],
      "source": [
        "#@title Install required libraries\n",
        "\n",
        "!pip install keras~=3.8.0 \\\n",
        "  matplotlib~=3.10.0 \\\n",
        "  numpy~=2.0.0 \\\n",
        "  pandas~=2.2.0 \\\n",
        "  tensorflow~=2.18.0\n",
        "\n",
        "print('\\n\\nAll requirements successfully installed.')"
      ]
    },
    {
      "cell_type": "code",
      "source": [
        "#@title Import Packages\n",
        "import numpy as np\n",
        "import plotly.express as px\n",
        "import pandas as pd\n",
        "import seaborn as sns\n",
        "import tensorflow as tf\n",
        "from tensorflow import keras\n",
        "from tensorflow.keras import layers, optimizers\n",
        "import matplotlib.pyplot as plt\n",
        "print(f\" All Packages successfuly imported\")"
      ],
      "metadata": {
        "id": "7OwN6v5yCG-g",
        "cellView": "form"
      },
      "execution_count": null,
      "outputs": []
    },
    {
      "cell_type": "code",
      "source": [
        "#@title Defining Data\n",
        "chicago_taxi_dataset = pd.read_csv(\"https://download.mlcc.google.com/mledu-datasets/chicago_taxi_train.csv\")\n",
        "display(chicago_taxi_dataset)\n",
        "chicago_taxi_dataset.info()\n",
        "chicago_taxi_dataset.describe()"
      ],
      "metadata": {
        "id": "S9Jbjb6eeusD"
      },
      "execution_count": null,
      "outputs": []
    },
    {
      "cell_type": "code",
      "source": [
        "#@title Plotting the correlation matrix\n",
        "\n",
        "#Drop non-numeric columns\n",
        "numeric_data = chicago_taxi_dataset.select_dtypes(include=['float64', 'int64'])\n",
        "\n",
        "# Calculate the correlation matrix\n",
        "corr_matrix = numeric_data.corr()\n",
        "\n",
        "# Plot the correlation matrix using Plotly Express\n",
        "fig = px.imshow(corr_matrix,text_auto=\".2f\",color_continuous_scale='bluered',title='Correlation Matrix Heatmap',aspect='auto')\n",
        "fig.update_layout(width=1000, height=1000)\n",
        "fig.show()"
      ],
      "metadata": {
        "id": "2HOURg3Afoy1",
        "cellView": "form"
      },
      "execution_count": null,
      "outputs": []
    },
    {
      "cell_type": "code",
      "source": [
        "#@title Cleaning Data\n",
        "\n",
        "#Remove rows with NaN values in any of the columns (TRIP_MILES, PICKUP_COMMUNITY_AREA, FARE)\n",
        "clean_data = chicago_taxi_dataset[['TRIP_MILES', 'PICKUP_COMMUNITY_AREA', 'TIPS']].iloc[:10000].dropna()\n",
        "\n",
        "# Separate into X1, X2, and y\n",
        "X1 = clean_data['TRIP_MILES'].values\n",
        "X2 = clean_data['PICKUP_COMMUNITY_AREA'].values\n",
        "y = clean_data['TIPS'].values\n",
        "\n",
        "# Display the results\n",
        "display( f\"Data successfully cleaned from NaN values\",f\"Data Length: {len(X1)}\" )"
      ],
      "metadata": {
        "id": "LmiODJ_SWAVw"
      },
      "execution_count": null,
      "outputs": []
    },
    {
      "cell_type": "code",
      "source": [
        "#@title Create the 3D scatter plot using Plotly Express\n",
        "fig = px.scatter_3d(clean_data, x='TRIP_MILES', y='PICKUP_COMMUNITY_AREA', z='TIPS',title=\"Interactive 3D Scatter Plot: TRIP_MILES, PICKUP_COMMUNITY_AREA, and Tips\",  color=y, color_continuous_scale='bluered', width=700, height=700)\n",
        "# Show the plot\n",
        "fig.show()"
      ],
      "metadata": {
        "id": "MW_IP9UYbXas"
      },
      "execution_count": null,
      "outputs": []
    },
    {
      "cell_type": "code",
      "source": [
        "#@title Defining and Traning the model\n",
        "\n",
        "\n",
        "# Combine X1 and X2 into a single input array\n",
        "X = np.column_stack((X1, X2))  # Shape: (n_samples, 2)\n",
        "\n",
        "# Hyperparameters\n",
        "epochs = 50\n",
        "batch_size = 350\n",
        "learning_rate = 0.0001\n",
        "\n",
        "# Custom callback to log RMSE and epoch numbers\n",
        "class RMSELogger(keras.callbacks.Callback):\n",
        "    def on_train_begin(self, logs=None):\n",
        "        self.epoch_nums = []\n",
        "        self.rmses = []\n",
        "\n",
        "    def on_epoch_end(self, epoch, logs=None):\n",
        "        rmse = np.sqrt(logs.get('loss'))\n",
        "        self.epoch_nums.append(epoch + 1)  # +1 to make it human-readable (start from 1)\n",
        "        self.rmses.append(rmse)\n",
        "\n",
        "# Build model\n",
        "model = keras.Sequential([\n",
        "    keras.Input(shape=(2,)),   # Replaces input_shape warning\n",
        "    layers.Dense(1)\n",
        "])\n",
        "\n",
        "# Compile the model\n",
        "optimizer = optimizers.SGD(learning_rate=learning_rate)\n",
        "model.compile(optimizer=optimizer, loss='mse')\n",
        "\n",
        "# Train model with RMSE logger\n",
        "rmse_logger = RMSELogger()\n",
        "model.fit(X, y, epochs=epochs, batch_size=batch_size, verbose=1, callbacks=[rmse_logger])\n",
        "\n",
        "\n",
        "\n",
        "\n",
        "# Plot RMSE vs Epochs with explicit x-axis (epoch numbers)\n",
        "# Create a DataFrame for plotting with plotly(required syntax of plotly!)\n",
        "rmse_data = pd.DataFrame({'Epoch': rmse_logger.epoch_nums, 'RMSE': rmse_logger.rmses})\n",
        "\n",
        "fig = px.line(rmse_data, x='Epoch', y='RMSE', title='RMSE vs. Epochs', labels={'Epoch': 'Epoch', 'RMSE': 'RMSE'})\n",
        "fig.update_layout(width=500, height=500)\n",
        "fig.show()\n",
        "\n",
        "# Print the trained model formula\n",
        "weights = model.get_weights()\n",
        "w1, w2 = weights[0]\n",
        "b=weights[1]\n",
        "\n",
        "print(f\"\\nLearned Model Formula: y = {w1} * X1 + {w2} * X2 + {b}\")"
      ],
      "metadata": {
        "id": "gBQOqhpIYPWJ"
      },
      "execution_count": null,
      "outputs": []
    },
    {
      "cell_type": "code",
      "source": [
        "#@title Validiating the model\n",
        "validate_clean_data = chicago_taxi_dataset[['TRIP_MILES', 'PICKUP_COMMUNITY_AREA', 'TIPS']].iloc[10000:10000+110].dropna()\n",
        "X1 = validate_clean_data['TRIP_MILES'].values\n",
        "X2 = validate_clean_data['PICKUP_COMMUNITY_AREA'].values\n",
        "\n",
        "Actual_Tips = validate_clean_data['TIPS'].values\n",
        "Predicted_Tips=(w1*X1)+(w2*X2)+b\n",
        "Loss_L1=abs(Actual_Tips-Predicted_Tips)\n",
        "df = pd.DataFrame({\n",
        "    'Actual_Tips': Actual_Tips,\n",
        "    'Predicted_Tips': Predicted_Tips,\n",
        "    'Loss_L1': Loss_L1\n",
        "})\n",
        "df"
      ],
      "metadata": {
        "id": "OU8fMYjrcFKq",
        "cellView": "form"
      },
      "execution_count": null,
      "outputs": []
    }
  ]
}